{
 "cells": [
  {
   "cell_type": "code",
   "execution_count": null,
   "id": "5738f94f-6449-470b-8d23-7c35f43ef5b8",
   "metadata": {},
   "outputs": [],
   "source": [
    "gpu_info = !nvidia-smi\n",
    "gpu_info='\\n'.join(gpu_info)\n",
    "if gpu_info.find('failed') >=0:\n",
    "  print('Not connected to a GPU')\n",
    "else:\n",
    "  print(gpu_info)"
   ]
  },
  {
   "cell_type": "code",
   "execution_count": null,
   "id": "72360648-49e7-40df-8459-9718989c6dc5",
   "metadata": {},
   "outputs": [],
   "source": [
    "!pip install -q transformers datasets diffusers soundfile"
   ]
  },
  {
   "cell_type": "code",
   "execution_count": null,
   "id": "6cead79f-a624-4f92-a324-b2770d2300f2",
   "metadata": {},
   "outputs": [],
   "source": [
    "#Imports\n",
    "\n",
    "import torch\n",
    "from transformers import pipeline\n",
    "from diffusers import DiffusionPipeline\n",
    "from datasets import load_dataset\n",
    "import soundfile as sf\n",
    "from IPython.display import Audio"
   ]
  },
  {
   "cell_type": "code",
   "execution_count": null,
   "id": "04a4f7c8-2b9c-4937-9b98-246355bf8030",
   "metadata": {},
   "outputs": [],
   "source": [
    "#Sentiment Analysis\n",
    "\n",
    "classifier =pipeline(\"sentiment-analysis\", device=\"cuda\")\n",
    "result = classifier(\"I'm super excited to be on the way to LLM mastery from udemy!\")\n",
    "print(result)"
   ]
  },
  {
   "cell_type": "code",
   "execution_count": null,
   "id": "2fd45e46-3719-49b2-b065-993a826e66f3",
   "metadata": {},
   "outputs": [],
   "source": [
    "#Named Entity Reconginition\n",
    "\n",
    "ner = pipeline(\"ner\",grouped_entities=True, device=\"cuda\")\n",
    "result = ner(\"Barack  Obama was the 44th president of the United States.\")\n",
    "print(result)"
   ]
  },
  {
   "cell_type": "code",
   "execution_count": null,
   "id": "e4755b6e-c1d2-4544-961a-8b4f599c44dc",
   "metadata": {},
   "outputs": [],
   "source": [
    "# Question Answering with Context\n",
    "\n",
    "question_answerer = pipeline(\"question-answering\",device=\"cuda\")\n",
    "result = question_answerer(question=\"who was the 44th president of United States\",context=\"Barack  Obama was the 44th president of the United States.\")\n",
    "print(result)"
   ]
  },
  {
   "cell_type": "code",
   "execution_count": null,
   "id": "ee19bf57-0254-4df8-ad95-5c3466cc8098",
   "metadata": {},
   "outputs": [],
   "source": [
    "from transformers import pipeline\n",
    "\n",
    "# Initialize the summarization pipeline with GPU acceleration\n",
    "summarizer = pipeline(\"summarization\", device=0)  # device=0 for GPU (CUDA), -1 for CPU\n",
    "\n",
    "# Input text for summarization\n",
    "text = \"\"\"I had a productive and insightful discussion with my appraiser. I am satisfied with the feedback given and appreciate the time my manager spent sharing comprehensive insights about my strengths and areas for improvement. The feedback was clear, well-structured, and helped me understand my performance and growth opportunities.\n",
    "I appreciate my manager's commitment to fostering an inclusive work environment and their ability to address and resolve any concerns related to inclusion. Their support and guidance make a positive impact on my professional development.\"\"\"\n",
    "\n",
    "# Generate the summary\n",
    "summary = summarizer(text, max_length=50, min_length=25, do_sample=False)\n",
    "\n",
    "# Print the summarized text\n",
    "print(summary[0]['summary_text'])\n"
   ]
  },
  {
   "cell_type": "code",
   "execution_count": null,
   "id": "9cabae2e-40dc-4d4e-91ef-9afd9cd19b4c",
   "metadata": {},
   "outputs": [],
   "source": [
    "# Translation\n",
    "\n",
    "translator = pipeline(\"translation_en_to_fr\",device=\"cuda\")\n",
    "result = translator(\"The Data Scientists were truely amazed by the power and simplicity of the HuggingFace pipeline API.\")\n",
    "print(result[0]['translation_text'])"
   ]
  },
  {
   "cell_type": "code",
   "execution_count": null,
   "id": "04977adc-569c-490b-9427-ee98235158c2",
   "metadata": {},
   "outputs": [],
   "source": [
    "# Classification\n",
    "\n",
    "classifier = pipeline(\"zero-shot-classification\", device=\"cuda\")\n",
    "result = classifier(\"Hugging Face's Transformers library is amazing!\",candidate_labels = [\"technology\",\"sports\",\"politics\"])\n",
    "print(result)"
   ]
  },
  {
   "cell_type": "code",
   "execution_count": null,
   "id": "6bcbee5a-8fff-4059-85a8-7cfc15e48b7a",
   "metadata": {},
   "outputs": [],
   "source": [
    "# Text Generation\n",
    "\n",
    "generator = pipeline(\"text-generation\",device=\"cuda\")\n",
    "result = generator(\"if there's one thing I want to remember about using HiggingFace pipelines, it's\")\n",
    "print(result[0]['generated_text'])"
   ]
  },
  {
   "cell_type": "code",
   "execution_count": null,
   "id": "6e9559c7-4a9a-4e5f-be7b-03958affdbcb",
   "metadata": {},
   "outputs": [],
   "source": [
    "# Image Generation\n",
    "\n",
    "image_gen = DiffusionPipeline.from_pretrained(\n",
    "    \"stabilityai/stable-diffusion-2-1\",\n",
    "    torch_dtype=torch.float16,\n",
    "    use_safetensors=False,\n",
    "    variant=\"fp16\"\n",
    ").to(\"cuda\")\n",
    "\n",
    "text = \"A class of data scientists learning about AI, in the surreal style of money heist\"\n",
    "image = image_gen(text).images[0]\n",
    "image"
   ]
  },
  {
   "cell_type": "code",
   "execution_count": null,
   "id": "b47fa811-dabf-4c56-926d-19fe538e96ea",
   "metadata": {},
   "outputs": [],
   "source": [
    "# Image Generation Using Flux Model\n",
    "\n",
    "image_gen = DiffusionPipeline.from_pretrained(\n",
    "    \"black-forest-labs/FLUX.1-schnell\",\n",
    "    torch_dtype=torch.float16\n",
    ").to(\"cuda\")\n",
    "\n",
    "text = \"A class of data scientists learning about AI, in the surreal style of money heist\"\n",
    "image = image_gen(text).images[0]\n",
    "image"
   ]
  },
  {
   "cell_type": "code",
   "execution_count": null,
   "id": "c1d17a58-6896-43ef-83fc-5b410e83ac1d",
   "metadata": {},
   "outputs": [],
   "source": [
    "# Audio Generation\n",
    "\n",
    "synthesiser = pipeline(\"text-to-speech\",\"microsoft/speecht5_tts\", device=\"cuda\")\n",
    "\n",
    "embeddings_dataset = load_dataset(\"Matthijs/cmu-arctic-xvectors\", split=\"validation\")\n",
    "speaker_embedding = torch.tensor(embeddings_dataset[7306][\"xvector\"]).unsqueeze(0)\n",
    "\n",
    "speech = synthesiser(\"Hi to an artificial intelligence negineer, on the way to mastery!\", forward_params={\"speaker_embeddings\":speaker_embedding})\n",
    "sf.write(\"speech.wav\",speech[\"audio\"], samplerate=speech[\"sampling_rate\"])\n",
    "Audio(\"speech.wav\")"
   ]
  },
  {
   "cell_type": "code",
   "execution_count": null,
   "id": "69a81ff4-237a-47bc-b6b4-0dbe4c87aa1a",
   "metadata": {},
   "outputs": [],
   "source": []
  }
 ],
 "metadata": {
  "kernelspec": {
   "display_name": "Python 3 (ipykernel)",
   "language": "python",
   "name": "python3"
  },
  "language_info": {
   "codemirror_mode": {
    "name": "ipython",
    "version": 3
   },
   "file_extension": ".py",
   "mimetype": "text/x-python",
   "name": "python",
   "nbconvert_exporter": "python",
   "pygments_lexer": "ipython3",
   "version": "3.11.11"
  }
 },
 "nbformat": 4,
 "nbformat_minor": 5
}
