{
 "cells": [
  {
   "cell_type": "code",
   "execution_count": 1,
   "id": "30852299",
   "metadata": {},
   "outputs": [],
   "source": [
    "# Just one import to start with!\n",
    "\n",
    "import modal"
   ]
  },
  {
   "cell_type": "markdown",
   "id": "f9678a2d",
   "metadata": {},
   "source": [
    "Generated token from powershell for system"
   ]
  },
  {
   "cell_type": "code",
   "execution_count": 2,
   "id": "9265cc1d",
   "metadata": {},
   "outputs": [],
   "source": [
    "# !modal setup"
   ]
  },
  {
   "cell_type": "code",
   "execution_count": 3,
   "id": "b0af41b9",
   "metadata": {},
   "outputs": [],
   "source": [
    "from hello import app, hello"
   ]
  },
  {
   "cell_type": "code",
   "execution_count": 4,
   "id": "67143472",
   "metadata": {},
   "outputs": [
    {
     "data": {
      "text/plain": [
       "'Hello from Indore, Madhya Pradesh, IN!!'"
      ]
     },
     "execution_count": 4,
     "metadata": {},
     "output_type": "execute_result"
    }
   ],
   "source": [
    "with app.run():\n",
    "    reply=hello.local()\n",
    "reply"
   ]
  },
  {
   "cell_type": "code",
   "execution_count": 5,
   "id": "300fbc32",
   "metadata": {},
   "outputs": [
    {
     "data": {
      "text/plain": [
       "'Hello from Ashburn, Virginia, US!!'"
      ]
     },
     "execution_count": 5,
     "metadata": {},
     "output_type": "execute_result"
    }
   ],
   "source": [
    "with app.run():\n",
    "    reply=hello.remote()\n",
    "reply"
   ]
  },
  {
   "cell_type": "code",
   "execution_count": 6,
   "id": "869c4c19",
   "metadata": {},
   "outputs": [
    {
     "name": "stderr",
     "output_type": "stream",
     "text": [
      "E:\\Practise_Code\\LLM\\llm_learning\\codebase\\agents_learning\\llama.py:14: DeprecationError: 2025-02-03: Modal will stop implicitly adding local Python modules to the Image (\"automounting\") in a future update. The following modules need to be explicitly added for future compatibility:\n",
      "* hello\n",
      "\n",
      "e.g.:\n",
      "image_with_source = my_image.add_local_python_source(\"hello\")\n",
      "\n",
      "For more information, see https://modal.com/docs/guide/modal-1-0-migration\n",
      "  @app.function(image=image, secrets=secrets, gpu=GPU, timeout=1800)\n"
     ]
    }
   ],
   "source": [
    "from llama import app, generate"
   ]
  },
  {
   "cell_type": "code",
   "execution_count": 7,
   "id": "ef1a374a",
   "metadata": {},
   "outputs": [
    {
     "data": {
      "application/vnd.jupyter.widget-view+json": {
       "model_id": "93c4407632b148728f2d105abe208d59",
       "version_major": 2,
       "version_minor": 0
      },
      "text/plain": [
       "Output()"
      ]
     },
     "metadata": {},
     "output_type": "display_data"
    },
    {
     "data": {
      "text/html": [
       "<pre style=\"white-space:pre;overflow-x:auto;line-height:normal;font-family:Menlo,'DejaVu Sans Mono',consolas,'Courier New',monospace\"><span style=\"color: #008000; text-decoration-color: #008000\">✓</span> Initialized. <span style=\"color: #b2b2b2; text-decoration-color: #b2b2b2\">View run at </span><span style=\"color: #b2b2b2; text-decoration-color: #b2b2b2; text-decoration: underline\">https://modal.com/apps/anandjain14314/main/ap-PLhJuEaxEOF3v5GhYt6K0s</span>\n",
       "</pre>\n"
      ],
      "text/plain": [
       "\u001b[32m✓\u001b[0m Initialized. \u001b[38;5;249mView run at \u001b[0m\u001b[4;38;5;249mhttps://modal.com/apps/anandjain14314/main/ap-PLhJuEaxEOF3v5GhYt6K0s\u001b[0m\n"
      ]
     },
     "metadata": {},
     "output_type": "display_data"
    },
    {
     "data": {
      "text/html": [
       "<pre style=\"white-space:pre;overflow-x:auto;line-height:normal;font-family:Menlo,'DejaVu Sans Mono',consolas,'Courier New',monospace\"></pre>\n"
      ],
      "text/plain": []
     },
     "metadata": {},
     "output_type": "display_data"
    },
    {
     "data": {
      "application/vnd.jupyter.widget-view+json": {
       "model_id": "3c2cb2bd9e1c47dd864daf4d845c982e",
       "version_major": 2,
       "version_minor": 0
      },
      "text/plain": [
       "Output()"
      ]
     },
     "metadata": {},
     "output_type": "display_data"
    },
    {
     "data": {
      "text/html": [
       "<pre style=\"white-space:pre;overflow-x:auto;line-height:normal;font-family:Menlo,'DejaVu Sans Mono',consolas,'Courier New',monospace\"></pre>\n"
      ],
      "text/plain": []
     },
     "metadata": {},
     "output_type": "display_data"
    },
    {
     "data": {
      "text/html": [
       "<pre style=\"white-space:pre;overflow-x:auto;line-height:normal;font-family:Menlo,'DejaVu Sans Mono',consolas,'Courier New',monospace\"><span style=\"color: #008000; text-decoration-color: #008000\">✓</span> Created objects.\n",
       "<span style=\"color: #808080; text-decoration-color: #808080\">├── </span>🔨 Created mount E:\\Practise_Code\\LLM\\llm_learning\\codebase\\agents_learning\\llama.py\n",
       "<span style=\"color: #808080; text-decoration-color: #808080\">├── </span>🔨 Created mount PythonPackage:hello\n",
       "<span style=\"color: #808080; text-decoration-color: #808080\">└── </span>🔨 Created function generate.\n",
       "</pre>\n"
      ],
      "text/plain": [
       "\u001b[32m✓\u001b[0m Created objects.\n",
       "\u001b[38;5;244m├── \u001b[0m🔨 Created mount E:\\Practise_Code\\LLM\\llm_learning\\codebase\\agents_learning\\llama.py\n",
       "\u001b[38;5;244m├── \u001b[0m🔨 Created mount PythonPackage:hello\n",
       "\u001b[38;5;244m└── \u001b[0m🔨 Created function generate.\n"
      ]
     },
     "metadata": {},
     "output_type": "display_data"
    },
    {
     "data": {
      "application/vnd.jupyter.widget-view+json": {
       "model_id": "da22d422769c4c9ca701007cd5d95837",
       "version_major": 2,
       "version_minor": 0
      },
      "text/plain": [
       "Output()"
      ]
     },
     "metadata": {},
     "output_type": "display_data"
    },
    {
     "data": {
      "text/html": [
       "<pre style=\"white-space:pre;overflow-x:auto;line-height:normal;font-family:Menlo,'DejaVu Sans Mono',consolas,'Courier New',monospace\"><span style=\"color: #800000; text-decoration-color: #800000\">\n",
       "</span></pre>\n"
      ],
      "text/plain": [
       "\u001b[31m\n",
       "\u001b[0m"
      ]
     },
     "metadata": {},
     "output_type": "display_data"
    },
    {
     "data": {
      "text/html": [
       "<pre style=\"white-space:pre;overflow-x:auto;line-height:normal;font-family:Menlo,'DejaVu Sans Mono',consolas,'Courier New',monospace\"><span style=\"color: #800000; text-decoration-color: #800000\">\u001b[1AFetching 4 files:   0%|          | 0/4 [00:00&lt;?, ?it/s]</span></pre>\n"
      ],
      "text/plain": [
       "\u001b[31m\u001b[1AFetching 4 files:   0%|          | 0/4 [00:00<?, ?it/s]\u001b[0m"
      ]
     },
     "metadata": {},
     "output_type": "display_data"
    },
    {
     "data": {
      "text/html": [
       "<pre style=\"white-space:pre;overflow-x:auto;line-height:normal;font-family:Menlo,'DejaVu Sans Mono',consolas,'Courier New',monospace\"><span style=\"color: #800000; text-decoration-color: #800000\">\n",
       "</span></pre>\n"
      ],
      "text/plain": [
       "\u001b[31m\n",
       "\u001b[0m"
      ]
     },
     "metadata": {},
     "output_type": "display_data"
    },
    {
     "data": {
      "text/html": [
       "<pre style=\"white-space:pre;overflow-x:auto;line-height:normal;font-family:Menlo,'DejaVu Sans Mono',consolas,'Courier New',monospace\"><span style=\"color: #800000; text-decoration-color: #800000\">\u001b[1AFetching 4 files:  25%|██▌       | 1/4 [00:54&lt;02:43, 54.35s/it]\n",
       "</span></pre>\n"
      ],
      "text/plain": [
       "\u001b[31m\u001b[1AFetching 4 files:  25%|██▌       | 1/4 [00:54<02:43, 54.35s/it]\n",
       "\u001b[0m"
      ]
     },
     "metadata": {},
     "output_type": "display_data"
    },
    {
     "data": {
      "text/html": [
       "<pre style=\"white-space:pre;overflow-x:auto;line-height:normal;font-family:Menlo,'DejaVu Sans Mono',consolas,'Courier New',monospace\"><span style=\"color: #800000; text-decoration-color: #800000\">\u001b[1AFetching 4 files:  75%|███████▌  | 3/4 [01:00&lt;00:16, 16.22s/it]Fetching 4 files: 100%|██████████| 4/4 [01:00&lt;00:00, 15.03s/it]\n",
       "</span></pre>\n"
      ],
      "text/plain": [
       "\u001b[31m\u001b[1AFetching 4 files:  75%|███████▌  | 3/4 [01:00<00:16, 16.22s/it]Fetching 4 files: 100%|██████████| 4/4 [01:00<00:00, 15.03s/it]\n",
       "\u001b[0m"
      ]
     },
     "metadata": {},
     "output_type": "display_data"
    },
    {
     "data": {
      "text/html": [
       "<pre style=\"white-space:pre;overflow-x:auto;line-height:normal;font-family:Menlo,'DejaVu Sans Mono',consolas,'Courier New',monospace\"><span style=\"color: #800000; text-decoration-color: #800000\">\n",
       "</span></pre>\n"
      ],
      "text/plain": [
       "\u001b[31m\n",
       "\u001b[0m"
      ]
     },
     "metadata": {},
     "output_type": "display_data"
    },
    {
     "data": {
      "text/html": [
       "<pre style=\"white-space:pre;overflow-x:auto;line-height:normal;font-family:Menlo,'DejaVu Sans Mono',consolas,'Courier New',monospace\"><span style=\"color: #800000; text-decoration-color: #800000\">\u001b[1ALoading checkpoint shards:   0%|          | 0/4 [00:00&lt;?, ?it/s]\n",
       "</span></pre>\n"
      ],
      "text/plain": [
       "\u001b[31m\u001b[1ALoading checkpoint shards:   0%|          | 0/4 [00:00<?, ?it/s]\n",
       "\u001b[0m"
      ]
     },
     "metadata": {},
     "output_type": "display_data"
    },
    {
     "data": {
      "text/html": [
       "<pre style=\"white-space:pre;overflow-x:auto;line-height:normal;font-family:Menlo,'DejaVu Sans Mono',consolas,'Courier New',monospace\"><span style=\"color: #800000; text-decoration-color: #800000\">\u001b[1ALoading checkpoint shards:  25%|██▌       | 1/4 [00:04&lt;00:14,  4.81s/it]\n",
       "</span></pre>\n"
      ],
      "text/plain": [
       "\u001b[31m\u001b[1ALoading checkpoint shards:  25%|██▌       | 1/4 [00:04<00:14,  4.81s/it]\n",
       "\u001b[0m"
      ]
     },
     "metadata": {},
     "output_type": "display_data"
    },
    {
     "data": {
      "text/html": [
       "<pre style=\"white-space:pre;overflow-x:auto;line-height:normal;font-family:Menlo,'DejaVu Sans Mono',consolas,'Courier New',monospace\"><span style=\"color: #800000; text-decoration-color: #800000\">\u001b[1ALoading checkpoint shards:  50%|█████     | 2/4 [00:09&lt;00:09,  4.76s/it]\n",
       "</span></pre>\n"
      ],
      "text/plain": [
       "\u001b[31m\u001b[1ALoading checkpoint shards:  50%|█████     | 2/4 [00:09<00:09,  4.76s/it]\n",
       "\u001b[0m"
      ]
     },
     "metadata": {},
     "output_type": "display_data"
    },
    {
     "data": {
      "text/html": [
       "<pre style=\"white-space:pre;overflow-x:auto;line-height:normal;font-family:Menlo,'DejaVu Sans Mono',consolas,'Courier New',monospace\"><span style=\"color: #800000; text-decoration-color: #800000\">\u001b[1ALoading checkpoint shards:  75%|███████▌  | 3/4 [00:14&lt;00:04,  4.83s/it]\n",
       "</span></pre>\n"
      ],
      "text/plain": [
       "\u001b[31m\u001b[1ALoading checkpoint shards:  75%|███████▌  | 3/4 [00:14<00:04,  4.83s/it]\n",
       "\u001b[0m"
      ]
     },
     "metadata": {},
     "output_type": "display_data"
    },
    {
     "data": {
      "text/html": [
       "<pre style=\"white-space:pre;overflow-x:auto;line-height:normal;font-family:Menlo,'DejaVu Sans Mono',consolas,'Courier New',monospace\"><span style=\"color: #800000; text-decoration-color: #800000\">\u001b[1ALoading checkpoint shards: 100%|██████████| 4/4 [00:14&lt;00:00,  3.07s/it]Loading checkpoint shards: 100%|██████████| 4/4 [00:14&lt;00:00,  3.71s/it]\n",
       "</span></pre>\n"
      ],
      "text/plain": [
       "\u001b[31m\u001b[1ALoading checkpoint shards: 100%|██████████| 4/4 [00:14<00:00,  3.07s/it]Loading checkpoint shards: 100%|██████████| 4/4 [00:14<00:00,  3.71s/it]\n",
       "\u001b[0m"
      ]
     },
     "metadata": {},
     "output_type": "display_data"
    },
    {
     "data": {
      "text/html": [
       "<pre style=\"white-space:pre;overflow-x:auto;line-height:normal;font-family:Menlo,'DejaVu Sans Mono',consolas,'Courier New',monospace\"><span style=\"color: #800000; text-decoration-color: #800000\">Setting `pad_token_id` to `eos_token_id`:128001 for open-end generation.\n",
       "</span></pre>\n"
      ],
      "text/plain": [
       "\u001b[31mSetting `pad_token_id` to `eos_token_id`:128001 for open-end generation.\n",
       "\u001b[0m"
      ]
     },
     "metadata": {},
     "output_type": "display_data"
    },
    {
     "data": {
      "text/html": [
       "<pre style=\"white-space:pre;overflow-x:auto;line-height:normal;font-family:Menlo,'DejaVu Sans Mono',consolas,'Courier New',monospace\"></pre>\n"
      ],
      "text/plain": []
     },
     "metadata": {},
     "output_type": "display_data"
    },
    {
     "data": {
      "text/html": [
       "<pre style=\"white-space:pre;overflow-x:auto;line-height:normal;font-family:Menlo,'DejaVu Sans Mono',consolas,'Courier New',monospace\"><span style=\"color: #808000; text-decoration-color: #808000\">Stopping app - local entrypoint completed.\n",
       "</span></pre>\n"
      ],
      "text/plain": [
       "\u001b[33mStopping app - local entrypoint completed.\n",
       "\u001b[0m"
      ]
     },
     "metadata": {},
     "output_type": "display_data"
    },
    {
     "data": {
      "text/html": [
       "<pre style=\"white-space:pre;overflow-x:auto;line-height:normal;font-family:Menlo,'DejaVu Sans Mono',consolas,'Courier New',monospace\"><span style=\"color: #008000; text-decoration-color: #008000\">✓</span> App completed. <span style=\"color: #b2b2b2; text-decoration-color: #b2b2b2\">View run at </span><span style=\"color: #b2b2b2; text-decoration-color: #b2b2b2; text-decoration: underline\">https://modal.com/apps/anandjain14314/main/ap-PLhJuEaxEOF3v5GhYt6K0s</span>\n",
       "</pre>\n"
      ],
      "text/plain": [
       "\u001b[32m✓\u001b[0m App completed. \u001b[38;5;249mView run at \u001b[0m\u001b[4;38;5;249mhttps://modal.com/apps/anandjain14314/main/ap-PLhJuEaxEOF3v5GhYt6K0s\u001b[0m\n"
      ]
     },
     "metadata": {},
     "output_type": "display_data"
    },
    {
     "data": {
      "text/plain": [
       "'<|begin_of_text|>Life is a mystery, everyone must stand alone, I hear you call my name,'"
      ]
     },
     "execution_count": 7,
     "metadata": {},
     "output_type": "execute_result"
    }
   ],
   "source": [
    "with modal.enable_output():\n",
    "    with app.run():\n",
    "        result = generate.remote(\"Life is a mystery, everyone must stand alone, I hear\")\n",
    "\n",
    "result"
   ]
  },
  {
   "cell_type": "code",
   "execution_count": 8,
   "id": "7460f135",
   "metadata": {},
   "outputs": [
    {
     "name": "stderr",
     "output_type": "stream",
     "text": [
      "E:\\Practise_Code\\LLM\\llm_learning\\codebase\\agents_learning\\pricer_ephemeral.py:22: DeprecationError: 2025-02-03: Modal will stop implicitly adding local Python modules to the Image (\"automounting\") in a future update. The following modules need to be explicitly added for future compatibility:\n",
      "* hello\n",
      "* llama\n",
      "\n",
      "e.g.:\n",
      "image_with_source = my_image.add_local_python_source(\"hello\", \"llama\")\n",
      "\n",
      "For more information, see https://modal.com/docs/guide/modal-1-0-migration\n",
      "  @app.function(image=image, secrets=secrets, gpu=GPU, timeout=1800)\n"
     ]
    }
   ],
   "source": [
    "import modal\n",
    "from pricer_ephemeral import app, price"
   ]
  },
  {
   "cell_type": "code",
   "execution_count": 9,
   "id": "5bdd464d-2a7b-493d-8a62-8985006d7349",
   "metadata": {
    "scrolled": true
   },
   "outputs": [
    {
     "data": {
      "application/vnd.jupyter.widget-view+json": {
       "model_id": "1fe7eafb77124c30a6bf8a6f84bc7054",
       "version_major": 2,
       "version_minor": 0
      },
      "text/plain": [
       "Output()"
      ]
     },
     "metadata": {},
     "output_type": "display_data"
    },
    {
     "data": {
      "text/html": [
       "<pre style=\"white-space:pre;overflow-x:auto;line-height:normal;font-family:Menlo,'DejaVu Sans Mono',consolas,'Courier New',monospace\"><span style=\"color: #008000; text-decoration-color: #008000\">✓</span> Initialized. <span style=\"color: #b2b2b2; text-decoration-color: #b2b2b2\">View run at </span><span style=\"color: #b2b2b2; text-decoration-color: #b2b2b2; text-decoration: underline\">https://modal.com/apps/anandjain14314/main/ap-Mf2odQDG0gHSHyZdlw1QD2</span>\n",
       "</pre>\n"
      ],
      "text/plain": [
       "\u001b[32m✓\u001b[0m Initialized. \u001b[38;5;249mView run at \u001b[0m\u001b[4;38;5;249mhttps://modal.com/apps/anandjain14314/main/ap-Mf2odQDG0gHSHyZdlw1QD2\u001b[0m\n"
      ]
     },
     "metadata": {},
     "output_type": "display_data"
    },
    {
     "data": {
      "text/html": [
       "<pre style=\"white-space:pre;overflow-x:auto;line-height:normal;font-family:Menlo,'DejaVu Sans Mono',consolas,'Courier New',monospace\"></pre>\n"
      ],
      "text/plain": []
     },
     "metadata": {},
     "output_type": "display_data"
    },
    {
     "data": {
      "application/vnd.jupyter.widget-view+json": {
       "model_id": "b9fbb2576a0f45fb8e0141a80a998b5e",
       "version_major": 2,
       "version_minor": 0
      },
      "text/plain": [
       "Output()"
      ]
     },
     "metadata": {},
     "output_type": "display_data"
    },
    {
     "data": {
      "text/html": [
       "<pre style=\"white-space:pre;overflow-x:auto;line-height:normal;font-family:Menlo,'DejaVu Sans Mono',consolas,'Courier New',monospace\"></pre>\n"
      ],
      "text/plain": []
     },
     "metadata": {},
     "output_type": "display_data"
    },
    {
     "data": {
      "text/html": [
       "<pre style=\"white-space:pre;overflow-x:auto;line-height:normal;font-family:Menlo,'DejaVu Sans Mono',consolas,'Courier New',monospace\"><span style=\"color: #008000; text-decoration-color: #008000\">✓</span> Created objects.\n",
       "<span style=\"color: #808080; text-decoration-color: #808080\">├── </span>🔨 Created mount E:\\Practise_Code\\LLM\\llm_learning\\codebase\\agents_learning\\pricer_ephemeral.py\n",
       "<span style=\"color: #808080; text-decoration-color: #808080\">├── </span>🔨 Created mount PythonPackage:hello\n",
       "<span style=\"color: #808080; text-decoration-color: #808080\">├── </span>🔨 Created mount PythonPackage:llama\n",
       "<span style=\"color: #808080; text-decoration-color: #808080\">└── </span>🔨 Created function price.\n",
       "</pre>\n"
      ],
      "text/plain": [
       "\u001b[32m✓\u001b[0m Created objects.\n",
       "\u001b[38;5;244m├── \u001b[0m🔨 Created mount E:\\Practise_Code\\LLM\\llm_learning\\codebase\\agents_learning\\pricer_ephemeral.py\n",
       "\u001b[38;5;244m├── \u001b[0m🔨 Created mount PythonPackage:hello\n",
       "\u001b[38;5;244m├── \u001b[0m🔨 Created mount PythonPackage:llama\n",
       "\u001b[38;5;244m└── \u001b[0m🔨 Created function price.\n"
      ]
     },
     "metadata": {},
     "output_type": "display_data"
    },
    {
     "data": {
      "application/vnd.jupyter.widget-view+json": {
       "model_id": "f56f9f260a4c460aa6cd1a4d036f84d0",
       "version_major": 2,
       "version_minor": 0
      },
      "text/plain": [
       "Output()"
      ]
     },
     "metadata": {},
     "output_type": "display_data"
    },
    {
     "data": {
      "text/html": [
       "<pre style=\"white-space:pre;overflow-x:auto;line-height:normal;font-family:Menlo,'DejaVu Sans Mono',consolas,'Courier New',monospace\"><span style=\"color: #800000; text-decoration-color: #800000\">\n",
       "</span></pre>\n"
      ],
      "text/plain": [
       "\u001b[31m\n",
       "\u001b[0m"
      ]
     },
     "metadata": {},
     "output_type": "display_data"
    },
    {
     "data": {
      "text/html": [
       "<pre style=\"white-space:pre;overflow-x:auto;line-height:normal;font-family:Menlo,'DejaVu Sans Mono',consolas,'Courier New',monospace\"><span style=\"color: #800000; text-decoration-color: #800000\">\u001b[1AFetching 4 files:   0%|          | 0/4 [00:00&lt;?, ?it/s]</span></pre>\n"
      ],
      "text/plain": [
       "\u001b[31m\u001b[1AFetching 4 files:   0%|          | 0/4 [00:00<?, ?it/s]\u001b[0m"
      ]
     },
     "metadata": {},
     "output_type": "display_data"
    },
    {
     "data": {
      "text/html": [
       "<pre style=\"white-space:pre;overflow-x:auto;line-height:normal;font-family:Menlo,'DejaVu Sans Mono',consolas,'Courier New',monospace\"><span style=\"color: #800000; text-decoration-color: #800000\">\n",
       "</span></pre>\n"
      ],
      "text/plain": [
       "\u001b[31m\n",
       "\u001b[0m"
      ]
     },
     "metadata": {},
     "output_type": "display_data"
    },
    {
     "data": {
      "text/html": [
       "<pre style=\"white-space:pre;overflow-x:auto;line-height:normal;font-family:Menlo,'DejaVu Sans Mono',consolas,'Courier New',monospace\"><span style=\"color: #800000; text-decoration-color: #800000\">\u001b[1AFetching 4 files:  25%|██▌       | 1/4 [00:55&lt;02:46, 55.43s/it]\n",
       "</span></pre>\n"
      ],
      "text/plain": [
       "\u001b[31m\u001b[1AFetching 4 files:  25%|██▌       | 1/4 [00:55<02:46, 55.43s/it]\n",
       "\u001b[0m"
      ]
     },
     "metadata": {},
     "output_type": "display_data"
    },
    {
     "data": {
      "text/html": [
       "<pre style=\"white-space:pre;overflow-x:auto;line-height:normal;font-family:Menlo,'DejaVu Sans Mono',consolas,'Courier New',monospace\"><span style=\"color: #800000; text-decoration-color: #800000\">\u001b[1AFetching 4 files:  50%|█████     | 2/4 [00:58&lt;00:48, 24.49s/it]Fetching 4 files: 100%|██████████| 4/4 [00:58&lt;00:00, 14.57s/it]\n",
       "</span></pre>\n"
      ],
      "text/plain": [
       "\u001b[31m\u001b[1AFetching 4 files:  50%|█████     | 2/4 [00:58<00:48, 24.49s/it]Fetching 4 files: 100%|██████████| 4/4 [00:58<00:00, 14.57s/it]\n",
       "\u001b[0m"
      ]
     },
     "metadata": {},
     "output_type": "display_data"
    },
    {
     "data": {
      "text/html": [
       "<pre style=\"white-space:pre;overflow-x:auto;line-height:normal;font-family:Menlo,'DejaVu Sans Mono',consolas,'Courier New',monospace\"><span style=\"color: #800000; text-decoration-color: #800000\">\n",
       "</span></pre>\n"
      ],
      "text/plain": [
       "\u001b[31m\n",
       "\u001b[0m"
      ]
     },
     "metadata": {},
     "output_type": "display_data"
    },
    {
     "data": {
      "text/html": [
       "<pre style=\"white-space:pre;overflow-x:auto;line-height:normal;font-family:Menlo,'DejaVu Sans Mono',consolas,'Courier New',monospace\"><span style=\"color: #800000; text-decoration-color: #800000\">\u001b[1ALoading checkpoint shards:   0%|          | 0/4 [00:00&lt;?, ?it/s]\n",
       "</span></pre>\n"
      ],
      "text/plain": [
       "\u001b[31m\u001b[1ALoading checkpoint shards:   0%|          | 0/4 [00:00<?, ?it/s]\n",
       "\u001b[0m"
      ]
     },
     "metadata": {},
     "output_type": "display_data"
    },
    {
     "data": {
      "text/html": [
       "<pre style=\"white-space:pre;overflow-x:auto;line-height:normal;font-family:Menlo,'DejaVu Sans Mono',consolas,'Courier New',monospace\"><span style=\"color: #800000; text-decoration-color: #800000\">\u001b[1ALoading checkpoint shards:  25%|██▌       | 1/4 [00:03&lt;00:11,  3.92s/it]\n",
       "</span></pre>\n"
      ],
      "text/plain": [
       "\u001b[31m\u001b[1ALoading checkpoint shards:  25%|██▌       | 1/4 [00:03<00:11,  3.92s/it]\n",
       "\u001b[0m"
      ]
     },
     "metadata": {},
     "output_type": "display_data"
    },
    {
     "data": {
      "text/html": [
       "<pre style=\"white-space:pre;overflow-x:auto;line-height:normal;font-family:Menlo,'DejaVu Sans Mono',consolas,'Courier New',monospace\"><span style=\"color: #800000; text-decoration-color: #800000\">\u001b[1ALoading checkpoint shards:  50%|█████     | 2/4 [00:08&lt;00:08,  4.26s/it]\n",
       "</span></pre>\n"
      ],
      "text/plain": [
       "\u001b[31m\u001b[1ALoading checkpoint shards:  50%|█████     | 2/4 [00:08<00:08,  4.26s/it]\n",
       "\u001b[0m"
      ]
     },
     "metadata": {},
     "output_type": "display_data"
    },
    {
     "data": {
      "text/html": [
       "<pre style=\"white-space:pre;overflow-x:auto;line-height:normal;font-family:Menlo,'DejaVu Sans Mono',consolas,'Courier New',monospace\"><span style=\"color: #800000; text-decoration-color: #800000\">\u001b[1ALoading checkpoint shards:  75%|███████▌  | 3/4 [00:12&lt;00:04,  4.31s/it]\n",
       "</span></pre>\n"
      ],
      "text/plain": [
       "\u001b[31m\u001b[1ALoading checkpoint shards:  75%|███████▌  | 3/4 [00:12<00:04,  4.31s/it]\n",
       "\u001b[0m"
      ]
     },
     "metadata": {},
     "output_type": "display_data"
    },
    {
     "data": {
      "text/html": [
       "<pre style=\"white-space:pre;overflow-x:auto;line-height:normal;font-family:Menlo,'DejaVu Sans Mono',consolas,'Courier New',monospace\"><span style=\"color: #800000; text-decoration-color: #800000\">\u001b[1ALoading checkpoint shards: 100%|██████████| 4/4 [00:13&lt;00:00,  2.74s/it]Loading checkpoint shards: 100%|██████████| 4/4 [00:13&lt;00:00,  3.28s/it]\n",
       "</span></pre>\n"
      ],
      "text/plain": [
       "\u001b[31m\u001b[1ALoading checkpoint shards: 100%|██████████| 4/4 [00:13<00:00,  2.74s/it]Loading checkpoint shards: 100%|██████████| 4/4 [00:13<00:00,  3.28s/it]\n",
       "\u001b[0m"
      ]
     },
     "metadata": {},
     "output_type": "display_data"
    },
    {
     "data": {
      "text/html": [
       "<pre style=\"white-space:pre;overflow-x:auto;line-height:normal;font-family:Menlo,'DejaVu Sans Mono',consolas,'Courier New',monospace\"><span style=\"color: #800000; text-decoration-color: #800000\">Setting `pad_token_id` to `eos_token_id`:128001 for open-end generation.\n",
       "</span></pre>\n"
      ],
      "text/plain": [
       "\u001b[31mSetting `pad_token_id` to `eos_token_id`:128001 for open-end generation.\n",
       "\u001b[0m"
      ]
     },
     "metadata": {},
     "output_type": "display_data"
    },
    {
     "data": {
      "text/html": [
       "<pre style=\"white-space:pre;overflow-x:auto;line-height:normal;font-family:Menlo,'DejaVu Sans Mono',consolas,'Courier New',monospace\"></pre>\n"
      ],
      "text/plain": []
     },
     "metadata": {},
     "output_type": "display_data"
    },
    {
     "data": {
      "text/html": [
       "<pre style=\"white-space:pre;overflow-x:auto;line-height:normal;font-family:Menlo,'DejaVu Sans Mono',consolas,'Courier New',monospace\"><span style=\"color: #808000; text-decoration-color: #808000\">Stopping app - local entrypoint completed.\n",
       "</span></pre>\n"
      ],
      "text/plain": [
       "\u001b[33mStopping app - local entrypoint completed.\n",
       "\u001b[0m"
      ]
     },
     "metadata": {},
     "output_type": "display_data"
    },
    {
     "data": {
      "text/html": [
       "<pre style=\"white-space:pre;overflow-x:auto;line-height:normal;font-family:Menlo,'DejaVu Sans Mono',consolas,'Courier New',monospace\"><span style=\"color: #008000; text-decoration-color: #008000\">✓</span> App completed. <span style=\"color: #b2b2b2; text-decoration-color: #b2b2b2\">View run at </span><span style=\"color: #b2b2b2; text-decoration-color: #b2b2b2; text-decoration: underline\">https://modal.com/apps/anandjain14314/main/ap-Mf2odQDG0gHSHyZdlw1QD2</span>\n",
       "</pre>\n"
      ],
      "text/plain": [
       "\u001b[32m✓\u001b[0m App completed. \u001b[38;5;249mView run at \u001b[0m\u001b[4;38;5;249mhttps://modal.com/apps/anandjain14314/main/ap-Mf2odQDG0gHSHyZdlw1QD2\u001b[0m\n"
      ]
     },
     "metadata": {},
     "output_type": "display_data"
    },
    {
     "data": {
      "text/plain": [
       "133.0"
      ]
     },
     "execution_count": 9,
     "metadata": {},
     "output_type": "execute_result"
    }
   ],
   "source": [
    "with modal.enable_output():\n",
    "    with app.run():\n",
    "        result = price.remote(\"Quadcast HyperX condenser mic, connects vai usb-c to your computer for crystal clear audio\")\n",
    "\n",
    "result"
   ]
  },
  {
   "cell_type": "markdown",
   "id": "e7e6d7a8-5114-4229-ba54-13e1af74631f",
   "metadata": {},
   "source": [
    "## Transitioning From Ephemeral Apps to Deployed Apps\n",
    "\n",
    "From a command line, `modal deploy xxx` will deploy your code as a Deployed App\n",
    "\n",
    "This is how you could package your AI service behind an API to be used in a Production System.\n",
    "\n",
    "You can also build REST endpoints easily, although we won't cover that as we'll be calling direct from Python.\n",
    "\n",
    "## Important note for Windows people:\n",
    "\n",
    "On the next line, I call `modal deploy` from within Jupyter lab; I've heard that on some versions of Windows this gives a strange unicode error because modal prints emojis to the output which can't be displayed. If that happens to you, simply use an Anaconda Prompt window or a Powershell instead, with your environment activated, and type `modal deploy pricer_service` there. Follow the same approach the next time we do `!modal deploy` too.\n",
    "\n",
    "As an alternative, a few students have mentioned you can run this code within Jupyter Lab if you want to run it from here:\n",
    "```\n",
    "# Check the default encoding\n",
    "print(locale.getpreferredencoding())  # Should print 'UTF-8'\n",
    "\n",
    "# Ensure UTF-8 encoding\n",
    "os.environ['PYTHONIOENCODING'] = 'utf-8'\n",
    "```"
   ]
  },
  {
   "cell_type": "code",
   "execution_count": 13,
   "id": "87faf769-8804-4af9-a94b-18e25d0f9124",
   "metadata": {},
   "outputs": [
    {
     "name": "stdout",
     "output_type": "stream",
     "text": [
      "cp1252\n",
      "cp1252\n"
     ]
    }
   ],
   "source": [
    "import locale\n",
    "import os\n",
    "\n",
    "print(locale.getpreferredencoding())\n",
    "\n",
    "os.environ['PYTHONIOENCODING'] = 'utf-8'\n",
    "\n",
    "print(locale.getpreferredencoding())"
   ]
  },
  {
   "cell_type": "code",
   "execution_count": 14,
   "id": "8ac34db8-cb23-4fd0-afa1-64cfd47b4288",
   "metadata": {
    "scrolled": true
   },
   "outputs": [
    {
     "name": "stdout",
     "output_type": "stream",
     "text": [
      "â”Œâ”€ Modal Deprecation Warning (2025-02-06) â”€â”€â”€â”€â”€â”€â”€â”€â”€â”€â”€â”€â”€â”€â”€â”€â”€â”€â”€â”€â”€â”€â”€â”€â”€â”€â”€â”€â”€â”€â”€â”€â”€â”€â”€â”€â”�\n",
      "â”‚ Using Python module paths will require using the -m flag in a future        â”‚\n",
      "â”‚ version of Modal.                                                           â”‚\n",
      "â”‚ Use `modal deploy -m pricer_service` instead.                               â”‚\n",
      "â””â”€â”€â”€â”€â”€â”€â”€â”€â”€â”€â”€â”€â”€â”€â”€â”€â”€â”€â”€â”€â”€â”€â”€â”€â”€â”€â”€â”€â”€â”€â”€â”€â”€â”€â”€â”€â”€â”€â”€â”€â”€â”€â”€â”€â”€â”€â”€â”€â”€â”€â”€â”€â”€â”€â”€â”€â”€â”€â”€â”€â”€â”€â”€â”€â”€â”€â”€â”€â”€â”€â”€â”€â”€â”€â”€â”€â”€â”˜\n",
      "- Creating objects...\n",
      "\\ Creating objects...\n",
      "/ Creating objects...\n",
      "â””â”€â”€ - Creating mount \n",
      "    E:\\Practise_Code\\LLM\\llm_learning\\codebase\\agents_learning\\pricer_service.p\n",
      "    y: Uploaded 0/1 files\n",
      "\\ Creating objects...\n",
      "â””â”€â”€ \\ Creating mount \n",
      "    E:\\Practise_Code\\LLM\\llm_learning\\codebase\\agents_learning\\pricer_service.p\n",
      "    y: Uploaded 0/1 files\n",
      "/ Creating objects...\n",
      "â””â”€â”€ / Creating mount \n",
      "    E:\\Practise_Code\\LLM\\llm_learning\\codebase\\agents_learning\\pricer_service.p\n",
      "    y: Finalizing index of 1 files\n",
      "\\ Creating objects...\n",
      "â””â”€â”€ ðŸ”¨ Created mount \n",
      "    E:\\Practise_Code\\LLM\\llm_learning\\codebase\\agents_learning\\pricer_service.p\n",
      "    y\n",
      "/ Creating objects...\n",
      "â”œâ”€â”€ ðŸ”¨ Created mount \n",
      "â”‚   E:\\Practise_Code\\LLM\\llm_learning\\codebase\\agents_learning\\pricer_service.p\n",
      "â”‚   y\n",
      "â””â”€â”€ - Creating function price...\n",
      "\\ Creating objects...\n",
      "â”œâ”€â”€ ðŸ”¨ Created mount \n",
      "â”‚   E:\\Practise_Code\\LLM\\llm_learning\\codebase\\agents_learning\\pricer_service.p\n",
      "â”‚   y\n",
      "â””â”€â”€ ðŸ”¨ Created function price.\n",
      "\n",
      "âœ“ Created objects.\n",
      "â”œâ”€â”€ ðŸ”¨ Created mount \n",
      "â”‚   E:\\Practise_Code\\LLM\\llm_learning\\codebase\\agents_learning\\pricer_service.p\n",
      "â”‚   y\n",
      "â””â”€â”€ ðŸ”¨ Created function price.\n",
      "âœ“ App deployed in 3.176s! ðŸŽ‰\n",
      "\n",
      "View Deployment: \n",
      "https://modal.com/apps/anandjain14314/main/deployed/pricer-service\n"
     ]
    }
   ],
   "source": [
    "!modal deploy pricer_service"
   ]
  },
  {
   "cell_type": "code",
   "execution_count": 15,
   "id": "e0fb54eb-7dda-4404-b158-bf5830ee8ea4",
   "metadata": {},
   "outputs": [
    {
     "name": "stderr",
     "output_type": "stream",
     "text": [
      "C:\\Users\\anand\\.conda\\envs\\llm_learnings\\Lib\\asyncio\\events.py:84: DeprecationError: 2025-01-27: `modal.Function.lookup` is deprecated and will be removed in a future release. It can be replaced with `modal.Function.from_name`.\n",
      "\n",
      "See https://modal.com/docs/guide/modal-1-0-migration for more information.\n",
      "  self._context.run(self._callback, *self._args)\n"
     ]
    }
   ],
   "source": [
    "pricer = modal.Function.lookup(\"pricer-service\", \"price\")"
   ]
  },
  {
   "cell_type": "code",
   "execution_count": 16,
   "id": "0b29ab8b-640c-4084-bfc2-8aac795577e8",
   "metadata": {},
   "outputs": [
    {
     "data": {
      "text/plain": [
       "133.0"
      ]
     },
     "execution_count": 16,
     "metadata": {},
     "output_type": "execute_result"
    }
   ],
   "source": [
    "pricer.remote(\"Quadcast HyperX condenser mic, connects vai usb-c to your computer for crystal clear audio\")"
   ]
  },
  {
   "cell_type": "code",
   "execution_count": 17,
   "id": "9f0162cc-f734-4602-98fe-a61ea1f7372b",
   "metadata": {},
   "outputs": [
    {
     "name": "stdout",
     "output_type": "stream",
     "text": [
      "â”Œâ”€ Modal Deprecation Warning (2025-02-06) â”€â”€â”€â”€â”€â”€â”€â”€â”€â”€â”€â”€â”€â”€â”€â”€â”€â”€â”€â”€â”€â”€â”€â”€â”€â”€â”€â”€â”€â”€â”€â”€â”€â”€â”€â”€â”�\n",
      "â”‚ Using Python module paths will require using the -m flag in a future        â”‚\n",
      "â”‚ version of Modal.                                                           â”‚\n",
      "â”‚ Use `modal deploy -m pricer_service2` instead.                              â”‚\n",
      "â””â”€â”€â”€â”€â”€â”€â”€â”€â”€â”€â”€â”€â”€â”€â”€â”€â”€â”€â”€â”€â”€â”€â”€â”€â”€â”€â”€â”€â”€â”€â”€â”€â”€â”€â”€â”€â”€â”€â”€â”€â”€â”€â”€â”€â”€â”€â”€â”€â”€â”€â”€â”€â”€â”€â”€â”€â”€â”€â”€â”€â”€â”€â”€â”€â”€â”€â”€â”€â”€â”€â”€â”€â”€â”€â”€â”€â”€â”˜\n",
      "â”Œâ”€ Modal Deprecation Warning (2025-01-15) â”€â”€â”€â”€â”€â”€â”€â”€â”€â”€â”€â”€â”€â”€â”€â”€â”€â”€â”€â”€â”€â”€â”€â”€â”€â”€â”€â”€â”€â”€â”€â”€â”€â”€â”€â”€â”�\n",
      "â”‚ The `@modal.build` decorator is deprecated and will be removed in a future  â”‚\n",
      "â”‚ release.                                                                    â”‚\n",
      "â”‚                                                                             â”‚\n",
      "â”‚ We now recommend storing large assets (such as model weights) using a       â”‚\n",
      "â”‚ `modal.Volume` instead of writing them directly into the `modal.Image`      â”‚\n",
      "â”‚ filesystem. For other use cases we recommend using `Image.run_function`     â”‚\n",
      "â”‚ instead.                                                                    â”‚\n",
      "â”‚                                                                             â”‚\n",
      "â”‚ See https://modal.com/docs/guide/modal-1-0-migration for more information.  â”‚\n",
      "â”‚                                                                             â”‚\n",
      "â”‚ Source:                                                                     â”‚\n",
      "â”‚ E:\\Practise_Code\\LLM\\llm_learning\\codebase\\agents_learning\\pricer_service2. â”‚\n",
      "â”‚ py:29                                                                       â”‚\n",
      "â”‚   @modal.build()                                                            â”‚\n",
      "â””â”€â”€â”€â”€â”€â”€â”€â”€â”€â”€â”€â”€â”€â”€â”€â”€â”€â”€â”€â”€â”€â”€â”€â”€â”€â”€â”€â”€â”€â”€â”€â”€â”€â”€â”€â”€â”€â”€â”€â”€â”€â”€â”€â”€â”€â”€â”€â”€â”€â”€â”€â”€â”€â”€â”€â”€â”€â”€â”€â”€â”€â”€â”€â”€â”€â”€â”€â”€â”€â”€â”€â”€â”€â”€â”€â”€â”€â”˜\n",
      "- Creating objects...\n",
      "\\ Creating objects...\n",
      "/ Creating objects...\n",
      "â””â”€â”€ - Creating mount \n",
      "    E:\\Practise_Code\\LLM\\llm_learning\\codebase\\agents_learning\\pricer_service2.\n",
      "    py: Uploaded 0/1 files\n",
      "\\ Creating objects...\n",
      "â””â”€â”€ | Creating mount \n",
      "    E:\\Practise_Code\\LLM\\llm_learning\\codebase\\agents_learning\\pricer_service2.\n",
      "    py: Uploaded 0/1 files\n",
      "/ Creating objects...\n",
      "â””â”€â”€ / Creating mount \n",
      "    E:\\Practise_Code\\LLM\\llm_learning\\codebase\\agents_learning\\pricer_service2.\n",
      "    py: Finalizing index of 1 files\n",
      "\\ Creating objects...\n",
      "â””â”€â”€ | Creating mount \n",
      "    E:\\Practise_Code\\LLM\\llm_learning\\codebase\\agents_learning\\pricer_service2.\n",
      "    py: Finalizing index of 1 files\n",
      "/ Creating objects...\n",
      "â”œâ”€â”€ ðŸ”¨ Created mount \n",
      "â”‚   E:\\Practise_Code\\LLM\\llm_learning\\codebase\\agents_learning\\pricer_service2.\n",
      "â”‚   py\n",
      "â””â”€â”€ - Creating function Pricer.download_model_to_folder...\n",
      "\\ Creating objects...\n",
      "â”œâ”€â”€ ðŸ”¨ Created mount \n",
      "â”‚   E:\\Practise_Code\\LLM\\llm_learning\\codebase\\agents_learning\\pricer_service2.\n",
      "â”‚   py\n",
      "â””â”€â”€ | Creating function Pricer.download_model_to_folder...\n",
      "/ Creating objects...\n",
      "â”œâ”€â”€ ðŸ”¨ Created mount \n",
      "â”‚   E:\\Practise_Code\\LLM\\llm_learning\\codebase\\agents_learning\\pricer_service2.\n",
      "â”‚   py\n",
      "â””â”€â”€ ðŸ”¨ Created function Pricer.download_model_to_folder.\n",
      "\\ Creating objects...\n",
      "â”œâ”€â”€ ðŸ”¨ Created mount \n",
      "â”‚   E:\\Practise_Code\\LLM\\llm_learning\\codebase\\agents_learning\\pricer_service2.\n",
      "â”‚   py\n",
      "â”œâ”€â”€ ðŸ”¨ Created function Pricer.download_model_to_folder.\n",
      "â””â”€â”€ - Creating function Pricer.*...\n",
      "/ Creating objects...\n",
      "â”œâ”€â”€ ðŸ”¨ Created mount \n",
      "â”‚   E:\\Practise_Code\\LLM\\llm_learning\\codebase\\agents_learning\\pricer_service2.\n",
      "â”‚   py\n",
      "â”œâ”€â”€ ðŸ”¨ Created function Pricer.download_model_to_folder.\n",
      "â””â”€â”€ | Creating function Pricer.*...\n",
      "\\ Creating objects...\n",
      "â”œâ”€â”€ ðŸ”¨ Created mount \n",
      "â”‚   E:\\Practise_Code\\LLM\\llm_learning\\codebase\\agents_learning\\pricer_service2.\n",
      "â”‚   py\n",
      "â”œâ”€â”€ ðŸ”¨ Created function Pricer.download_model_to_folder.\n",
      "â””â”€â”€ ðŸ”¨ Created function Pricer.*.\n",
      "/ Creating objects...\n",
      "â”œâ”€â”€ ðŸ”¨ Created mount \n",
      "â”‚   E:\\Practise_Code\\LLM\\llm_learning\\codebase\\agents_learning\\pricer_service2.\n",
      "â”‚   py\n",
      "â”œâ”€â”€ ðŸ”¨ Created function Pricer.download_model_to_folder.\n",
      "â””â”€â”€ ðŸ”¨ Created function Pricer.*.\n",
      "- Creating objects...\n",
      "â”œâ”€â”€ ðŸ”¨ Created mount \n",
      "â”‚   E:\\Practise_Code\\LLM\\llm_learning\\codebase\\agents_learning\\pricer_service2.\n",
      "â”‚   py\n",
      "â”œâ”€â”€ ðŸ”¨ Created function Pricer.download_model_to_folder.\n",
      "â””â”€â”€ ðŸ”¨ Created function Pricer.*.\n",
      "\n",
      "âœ“ Created objects.\n",
      "â”œâ”€â”€ ðŸ”¨ Created mount \n",
      "â”‚   E:\\Practise_Code\\LLM\\llm_learning\\codebase\\agents_learning\\pricer_service2.\n",
      "â”‚   py\n",
      "â”œâ”€â”€ ðŸ”¨ Created function Pricer.download_model_to_folder.\n",
      "â””â”€â”€ ðŸ”¨ Created function Pricer.*.\n",
      "âœ“ App deployed in 4.771s! ðŸŽ‰\n",
      "\n",
      "View Deployment: \n",
      "https://modal.com/apps/anandjain14314/main/deployed/pricer-service\n"
     ]
    }
   ],
   "source": [
    "!modal deploy pricer_service2"
   ]
  },
  {
   "cell_type": "code",
   "execution_count": 18,
   "id": "4c256556-b04c-4f85-9d0a-a745eab4de0b",
   "metadata": {},
   "outputs": [
    {
     "name": "stderr",
     "output_type": "stream",
     "text": [
      "C:\\Users\\anand\\.conda\\envs\\llm_learnings\\Lib\\asyncio\\events.py:84: DeprecationError: 2025-01-27: `modal.Cls.lookup` is deprecated and will be removed in a future release. It can be replaced with `modal.Cls.from_name`.\n",
      "\n",
      "See https://modal.com/docs/guide/modal-1-0-migration for more information.\n",
      "  self._context.run(self._callback, *self._args)\n"
     ]
    },
    {
     "name": "stdout",
     "output_type": "stream",
     "text": [
      "133.0\n"
     ]
    }
   ],
   "source": [
    "Pricer = modal.Cls.lookup(\"pricer-service\", \"Pricer\")\n",
    "pricer = Pricer()\n",
    "reply = pricer.price.remote(\"Quadcast HyperX condenser mic, connects via usb-c to your computer for crystal clear audio\")\n",
    "print(reply)"
   ]
  },
  {
   "cell_type": "markdown",
   "id": "9804c11b-32a0-46f3-a2d3-de79c8094cf2",
   "metadata": {},
   "source": [
    "## And now introducing our Agent class"
   ]
  },
  {
   "cell_type": "code",
   "execution_count": 21,
   "id": "b9e66fac-db78-444e-93c4-281e276a49e9",
   "metadata": {},
   "outputs": [
    {
     "ename": "AttributeError",
     "evalue": "module 'tensorflow' has no attribute 'contrib'",
     "output_type": "error",
     "traceback": [
      "\u001b[31m---------------------------------------------------------------------------\u001b[39m",
      "\u001b[31mAttributeError\u001b[39m                            Traceback (most recent call last)",
      "\u001b[36mCell\u001b[39m\u001b[36m \u001b[39m\u001b[32mIn[21]\u001b[39m\u001b[32m, line 1\u001b[39m\n\u001b[32m----> \u001b[39m\u001b[32m1\u001b[39m \u001b[38;5;28;01mfrom\u001b[39;00m\u001b[38;5;250m \u001b[39m\u001b[34;01magents\u001b[39;00m\u001b[34;01m.\u001b[39;00m\u001b[34;01mspecialist_agent\u001b[39;00m\u001b[38;5;250m \u001b[39m\u001b[38;5;28;01mimport\u001b[39;00m SpecialistAgent\n",
      "\u001b[36mFile \u001b[39m\u001b[32m~\\.conda\\envs\\llm_learnings\\Lib\\site-packages\\agents\\__init__.py:22\u001b[39m\n\u001b[32m     19\u001b[39m \u001b[38;5;28;01mfrom\u001b[39;00m\u001b[38;5;250m \u001b[39m\u001b[34;01m__future__\u001b[39;00m\u001b[38;5;250m \u001b[39m\u001b[38;5;28;01mimport\u001b[39;00m print_function\n\u001b[32m     21\u001b[39m \u001b[38;5;28;01mfrom\u001b[39;00m\u001b[38;5;250m \u001b[39m\u001b[34;01m.\u001b[39;00m\u001b[38;5;250m \u001b[39m\u001b[38;5;28;01mimport\u001b[39;00m algorithms\n\u001b[32m---> \u001b[39m\u001b[32m22\u001b[39m \u001b[38;5;28;01mfrom\u001b[39;00m\u001b[38;5;250m \u001b[39m\u001b[34;01m.\u001b[39;00m\u001b[38;5;250m \u001b[39m\u001b[38;5;28;01mimport\u001b[39;00m scripts\n\u001b[32m     23\u001b[39m \u001b[38;5;28;01mfrom\u001b[39;00m\u001b[38;5;250m \u001b[39m\u001b[34;01m.\u001b[39;00m\u001b[38;5;250m \u001b[39m\u001b[38;5;28;01mimport\u001b[39;00m tools\n",
      "\u001b[36mFile \u001b[39m\u001b[32m~\\.conda\\envs\\llm_learnings\\Lib\\site-packages\\agents\\scripts\\__init__.py:21\u001b[39m\n\u001b[32m     18\u001b[39m \u001b[38;5;28;01mfrom\u001b[39;00m\u001b[38;5;250m \u001b[39m\u001b[34;01m__future__\u001b[39;00m\u001b[38;5;250m \u001b[39m\u001b[38;5;28;01mimport\u001b[39;00m division\n\u001b[32m     19\u001b[39m \u001b[38;5;28;01mfrom\u001b[39;00m\u001b[38;5;250m \u001b[39m\u001b[34;01m__future__\u001b[39;00m\u001b[38;5;250m \u001b[39m\u001b[38;5;28;01mimport\u001b[39;00m print_function\n\u001b[32m---> \u001b[39m\u001b[32m21\u001b[39m \u001b[38;5;28;01mfrom\u001b[39;00m\u001b[38;5;250m \u001b[39m\u001b[34;01m.\u001b[39;00m\u001b[38;5;250m \u001b[39m\u001b[38;5;28;01mimport\u001b[39;00m train\n\u001b[32m     22\u001b[39m \u001b[38;5;28;01mfrom\u001b[39;00m\u001b[38;5;250m \u001b[39m\u001b[34;01m.\u001b[39;00m\u001b[38;5;250m \u001b[39m\u001b[38;5;28;01mimport\u001b[39;00m utility\n\u001b[32m     23\u001b[39m \u001b[38;5;28;01mfrom\u001b[39;00m\u001b[38;5;250m \u001b[39m\u001b[34;01m.\u001b[39;00m\u001b[38;5;250m \u001b[39m\u001b[38;5;28;01mimport\u001b[39;00m visualize\n",
      "\u001b[36mFile \u001b[39m\u001b[32m~\\.conda\\envs\\llm_learnings\\Lib\\site-packages\\agents\\scripts\\train.py:33\u001b[39m\n\u001b[32m     30\u001b[39m \u001b[38;5;28;01mimport\u001b[39;00m\u001b[38;5;250m \u001b[39m\u001b[34;01mtensorflow\u001b[39;00m\u001b[38;5;250m \u001b[39m\u001b[38;5;28;01mas\u001b[39;00m\u001b[38;5;250m \u001b[39m\u001b[34;01mtf\u001b[39;00m\n\u001b[32m     32\u001b[39m \u001b[38;5;28;01mfrom\u001b[39;00m\u001b[38;5;250m \u001b[39m\u001b[34;01magents\u001b[39;00m\u001b[38;5;250m \u001b[39m\u001b[38;5;28;01mimport\u001b[39;00m tools\n\u001b[32m---> \u001b[39m\u001b[32m33\u001b[39m \u001b[38;5;28;01mfrom\u001b[39;00m\u001b[38;5;250m \u001b[39m\u001b[34;01magents\u001b[39;00m\u001b[34;01m.\u001b[39;00m\u001b[34;01mscripts\u001b[39;00m\u001b[38;5;250m \u001b[39m\u001b[38;5;28;01mimport\u001b[39;00m configs\n\u001b[32m     34\u001b[39m \u001b[38;5;28;01mfrom\u001b[39;00m\u001b[38;5;250m \u001b[39m\u001b[34;01magents\u001b[39;00m\u001b[34;01m.\u001b[39;00m\u001b[34;01mscripts\u001b[39;00m\u001b[38;5;250m \u001b[39m\u001b[38;5;28;01mimport\u001b[39;00m utility\n\u001b[32m     37\u001b[39m \u001b[38;5;28;01mdef\u001b[39;00m\u001b[38;5;250m \u001b[39m\u001b[34m_create_environment\u001b[39m(config):\n",
      "\u001b[36mFile \u001b[39m\u001b[32m~\\.conda\\envs\\llm_learnings\\Lib\\site-packages\\agents\\scripts\\configs.py:26\u001b[39m\n\u001b[32m     23\u001b[39m \u001b[38;5;28;01mimport\u001b[39;00m\u001b[38;5;250m \u001b[39m\u001b[34;01mtensorflow\u001b[39;00m\u001b[38;5;250m \u001b[39m\u001b[38;5;28;01mas\u001b[39;00m\u001b[38;5;250m \u001b[39m\u001b[34;01mtf\u001b[39;00m\n\u001b[32m     25\u001b[39m \u001b[38;5;28;01mfrom\u001b[39;00m\u001b[38;5;250m \u001b[39m\u001b[34;01magents\u001b[39;00m\u001b[38;5;250m \u001b[39m\u001b[38;5;28;01mimport\u001b[39;00m algorithms\n\u001b[32m---> \u001b[39m\u001b[32m26\u001b[39m \u001b[38;5;28;01mfrom\u001b[39;00m\u001b[38;5;250m \u001b[39m\u001b[34;01magents\u001b[39;00m\u001b[34;01m.\u001b[39;00m\u001b[34;01mscripts\u001b[39;00m\u001b[38;5;250m \u001b[39m\u001b[38;5;28;01mimport\u001b[39;00m networks\n\u001b[32m     29\u001b[39m \u001b[38;5;28;01mdef\u001b[39;00m\u001b[38;5;250m \u001b[39m\u001b[34mdefault\u001b[39m():\n\u001b[32m     30\u001b[39m \u001b[38;5;250m  \u001b[39m\u001b[33;03m\"\"\"Default configuration for PPO.\"\"\"\u001b[39;00m\n",
      "\u001b[36mFile \u001b[39m\u001b[32m~\\.conda\\envs\\llm_learnings\\Lib\\site-packages\\agents\\scripts\\networks.py:30\u001b[39m\n\u001b[32m     26\u001b[39m \u001b[38;5;28;01mimport\u001b[39;00m\u001b[38;5;250m \u001b[39m\u001b[34;01mtensorflow\u001b[39;00m\u001b[38;5;250m \u001b[39m\u001b[38;5;28;01mas\u001b[39;00m\u001b[38;5;250m \u001b[39m\u001b[34;01mtf\u001b[39;00m\n\u001b[32m     28\u001b[39m \u001b[38;5;28;01mimport\u001b[39;00m\u001b[38;5;250m \u001b[39m\u001b[34;01magents\u001b[39;00m\n\u001b[32m---> \u001b[39m\u001b[32m30\u001b[39m tfd = \u001b[43mtf\u001b[49m\u001b[43m.\u001b[49m\u001b[43mcontrib\u001b[49m.distributions\n\u001b[32m     33\u001b[39m \u001b[38;5;66;03m# TensorFlow's default implementation of the KL divergence between two\u001b[39;00m\n\u001b[32m     34\u001b[39m \u001b[38;5;66;03m# tf.contrib.distributions.MultivariateNormalDiag instances sometimes results\u001b[39;00m\n\u001b[32m     35\u001b[39m \u001b[38;5;66;03m# in NaN values in the gradients (not in the forward pass). Until the default\u001b[39;00m\n\u001b[32m     36\u001b[39m \u001b[38;5;66;03m# implementation is fixed, we use our own KL implementation.\u001b[39;00m\n\u001b[32m     37\u001b[39m \u001b[38;5;28;01mclass\u001b[39;00m\u001b[38;5;250m \u001b[39m\u001b[34;01mCustomKLDiagNormal\u001b[39;00m(tfd.MultivariateNormalDiag):\n",
      "\u001b[31mAttributeError\u001b[39m: module 'tensorflow' has no attribute 'contrib'"
     ]
    }
   ],
   "source": [
    "from agents.specialist_agent import SpecialistAgent"
   ]
  },
  {
   "cell_type": "code",
   "execution_count": null,
   "id": "82dd8ee8-a84e-48d6-ba6a-8629de0d9f08",
   "metadata": {},
   "outputs": [],
   "source": [
    "agent = SpecialistAgent()\n",
    "agent.price(\"iPad Pro 2nd generation\")"
   ]
  },
  {
   "cell_type": "code",
   "execution_count": null,
   "id": "88c5cfb2-e671-4a22-ad53-f3710ee12d1d",
   "metadata": {},
   "outputs": [],
   "source": []
  }
 ],
 "metadata": {
  "kernelspec": {
   "display_name": "Python 3 (ipykernel)",
   "language": "python",
   "name": "python3"
  },
  "language_info": {
   "codemirror_mode": {
    "name": "ipython",
    "version": 3
   },
   "file_extension": ".py",
   "mimetype": "text/x-python",
   "name": "python",
   "nbconvert_exporter": "python",
   "pygments_lexer": "ipython3",
   "version": "3.11.12"
  }
 },
 "nbformat": 4,
 "nbformat_minor": 5
}
