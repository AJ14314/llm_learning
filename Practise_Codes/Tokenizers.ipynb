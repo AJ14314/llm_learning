{
 "cells": [
  {
   "cell_type": "code",
   "execution_count": null,
   "id": "9100dee6-ddb7-43ab-b7df-17f62662ccb2",
   "metadata": {},
   "outputs": [],
   "source": [
    "!pip install -q google.colab huggingface_hub"
   ]
  },
  {
   "cell_type": "code",
   "execution_count": null,
   "id": "5f69c3a1-d5ef-442b-bc89-a2489c9c6cd0",
   "metadata": {},
   "outputs": [],
   "source": [
    "from google.colab import userdata\n",
    "from huggingface_hub import login\n",
    "from transformers import AutoTokenizer"
   ]
  },
  {
   "cell_type": "code",
   "execution_count": null,
   "id": "929a5389-01f3-4b40-b567-56bc0a9beca1",
   "metadata": {},
   "outputs": [],
   "source": []
  }
 ],
 "metadata": {
  "kernelspec": {
   "display_name": "Python 3 (ipykernel)",
   "language": "python",
   "name": "python3"
  },
  "language_info": {
   "codemirror_mode": {
    "name": "ipython",
    "version": 3
   },
   "file_extension": ".py",
   "mimetype": "text/x-python",
   "name": "python",
   "nbconvert_exporter": "python",
   "pygments_lexer": "ipython3",
   "version": "3.11.11"
  }
 },
 "nbformat": 4,
 "nbformat_minor": 5
}
