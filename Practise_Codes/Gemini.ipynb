{
 "cells": [
  {
   "cell_type": "code",
   "execution_count": null,
   "id": "6e06f28d-ff7f-46c7-877f-14436a7dc20c",
   "metadata": {},
   "outputs": [],
   "source": [
    "import google.generativeai as genai\n",
    "import gradio as gr\n",
    "import os\n",
    "from dotenv import load_dotenv"
   ]
  },
  {
   "cell_type": "code",
   "execution_count": null,
   "id": "713478cd-4910-4c90-8b76-f06799db9ec7",
   "metadata": {},
   "outputs": [],
   "source": [
    "MODEL = \"gemini-2.0-flash\""
   ]
  },
  {
   "cell_type": "code",
   "execution_count": null,
   "id": "459838e4-37c5-4c84-9213-5644ca1684f6",
   "metadata": {},
   "outputs": [],
   "source": [
    "def generate_chat(prompt):\n",
    "    load_dotenv(override=True)\n",
    "\n",
    "    genai.configure(api_key=(os.getenv('GOOGLE_API_KEY', 'your-key-if-not-using-env')))# Set in Colab secrets\n",
    "    model = genai.GenerativeModel(MODEL)\n",
    "\n",
    "    stream = model.generate_content(prompt, stream=True)\n",
    "\n",
    "    return stream"
   ]
  },
  {
   "cell_type": "code",
   "execution_count": null,
   "id": "a9a02c82-8fff-40c7-a56d-bb60986ad6c4",
   "metadata": {},
   "outputs": [],
   "source": [
    "def chat(message, history):\n",
    "    print(\"History : \", history)\n",
    "    messages = \"You are a chat assistant.\\n\"\n",
    "\n",
    "    if history:\n",
    "        history_text = \" \".join([f\"{item['role']}: {item['content']}\" for item in history])\n",
    "        messages += history_text + \"\\n\"\n",
    "\n",
    "    messages += f\"user: {message}\"\n",
    "\n",
    "    stream = generate_chat(messages)\n",
    "\n",
    "    full_response = \"\"\n",
    "    for chunk in stream:\n",
    "        full_response += chunk.text or \"\"\n",
    "        yield full_response\n"
   ]
  },
  {
   "cell_type": "code",
   "execution_count": null,
   "id": "677ba895-a9f7-42b4-926d-2f3e173cbed7",
   "metadata": {},
   "outputs": [],
   "source": [
    "view = gr.ChatInterface(chat, type=\"messages\").launch()"
   ]
  },
  {
   "cell_type": "code",
   "execution_count": null,
   "id": "434193c1-06f2-4f54-8dd6-5c9d8dbeade3",
   "metadata": {},
   "outputs": [],
   "source": []
  }
 ],
 "metadata": {
  "kernelspec": {
   "display_name": "Python 3 (ipykernel)",
   "language": "python",
   "name": "python3"
  },
  "language_info": {
   "codemirror_mode": {
    "name": "ipython",
    "version": 3
   },
   "file_extension": ".py",
   "mimetype": "text/x-python",
   "name": "python",
   "nbconvert_exporter": "python",
   "pygments_lexer": "ipython3",
   "version": "3.11.11"
  }
 },
 "nbformat": 4,
 "nbformat_minor": 5
}
